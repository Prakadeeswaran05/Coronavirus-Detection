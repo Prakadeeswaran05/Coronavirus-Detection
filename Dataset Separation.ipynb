{
 "cells": [
  {
   "cell_type": "code",
   "execution_count": 10,
   "metadata": {},
   "outputs": [],
   "source": [
    "import numpy as np\n",
    "import matplotlib.pyplot as plt\n",
    "import os \n",
    "import cv2"
   ]
  },
  {
   "cell_type": "code",
   "execution_count": 12,
   "metadata": {},
   "outputs": [
    {
     "name": "stdout",
     "output_type": "stream",
     "text": [
      "C:\\Users\\kesav\\Downloads\\datacov created\n",
      "C:\\Users\\kesav\\Downloads\\datacov\\train created\n",
      "C:\\Users\\kesav\\Downloads\\datacov\\test created\n",
      "C:\\Users\\kesav\\Downloads\\datacov\\train\\covid created\n",
      "C:\\Users\\kesav\\Downloads\\datacov\\train\\no_covid created\n",
      "C:\\Users\\kesav\\Downloads\\datacov\\test\\covid created\n",
      "C:\\Users\\kesav\\Downloads\\datacov\\test\\no_covid created\n"
     ]
    }
   ],
   "source": [
    "\n",
    "to_create = [\n",
    "    \n",
    "    'C:\\\\Users\\\\kesav\\\\Downloads\\\\datacov',\n",
    "    'C:\\\\Users\\\\kesav\\\\Downloads\\\\datacov\\\\train',\n",
    "    'C:\\\\Users\\\\kesav\\\\Downloads\\\\datacov\\\\test',\n",
    "    'C:\\\\Users\\\\kesav\\\\Downloads\\\\datacov\\\\train\\\\covid',\n",
    "    'C:\\\\Users\\\\kesav\\\\Downloads\\\\datacov\\\\train\\\\no_covid',\n",
    "    'C:\\\\Users\\\\kesav\\\\Downloads\\\\datacov\\\\test\\\\covid',\n",
    "    'C:\\\\Users\\\\kesav\\\\Downloads\\\\datacov\\\\test\\\\no_covid',\n",
    "]\n",
    "\n",
    "for directory in to_create:\n",
    "    try:\n",
    "        os.mkdir(directory)\n",
    "        print(directory, 'created')\n",
    "    except:\n",
    "        print(directory, 'failed')"
   ]
  },
  {
   "cell_type": "code",
   "execution_count": 26,
   "metadata": {},
   "outputs": [
    {
     "name": "stdout",
     "output_type": "stream",
     "text": [
      "C:\\Users\\kesav\\Downloads\\data\\covid\\\n",
      "C:\\Users\\kesav\\Downloads\\datacov\\train\\covid\\\n",
      "C:\\Users\\kesav\\Downloads\\data\\no_covid\\\n",
      "C:\\Users\\kesav\\Downloads\\datacov\\train\\no_covid\\\n"
     ]
    }
   ],
   "source": [
    "import random\n",
    "import shutil\n",
    "def split(src,train,test,split_size):\n",
    "    print(src)\n",
    "    print(train)\n",
    "    all_file=[]\n",
    "    for filename in os.listdir(src):\n",
    "        file_path=os.path.join(src,filename)\n",
    "        if os.path.getsize(file_path):\n",
    "            all_file.append(filename)\n",
    "        else:\n",
    "            print('{} is zero length, so ignoring'.format(file_name))\n",
    "            \n",
    "    length=len(all_file)\n",
    "    \n",
    "    split_point=int(length*split_size)\n",
    "    shuffled = random.sample(all_file, length)\n",
    "    train_file=shuffled[:split_point]\n",
    "    test_file=shuffled[split_point:]\n",
    "    for f in train_file:\n",
    "        shutil.copy(src+f,train+f)\n",
    "    for f in test_file:\n",
    "        shutil.copy(src+f,test+f)\n",
    "        \n",
    "        \n",
    "COV_SOURCE_DIR = \"C:\\\\Users\\\\kesav\\\\Downloads\\\\data\\\\covid\\\\\"\n",
    "TRAINING_COV_DIR = \"C:\\\\Users\\\\kesav\\\\Downloads\\\\datacov\\\\train\\\\covid\\\\\"\n",
    "TESTING_COV_DIR = \"C:\\\\Users\\\\kesav\\\\Downloads\\\\datacov\\\\test\\\\covid\\\\\"\n",
    "NCOV_SOURCE_DIR = \"C:\\\\Users\\\\kesav\\\\Downloads\\\\data\\\\no_covid\\\\\"\n",
    "TRAINING_NCOV_DIR = \"C:\\\\Users\\\\kesav\\\\Downloads\\\\datacov\\\\train\\\\no_covid\\\\\"\n",
    "TESTING_NCOV_DIR = \"C:\\\\Users\\\\kesav\\\\Downloads\\\\datacov\\\\test\\\\no_covid\\\\\"\n",
    "\n",
    "split_size = .9\n",
    "split(COV_SOURCE_DIR, TRAINING_COV_DIR, TESTING_COV_DIR, split_size)\n",
    "split(NCOV_SOURCE_DIR, TRAINING_NCOV_DIR, TESTING_NCOV_DIR, split_size)\n",
    "        \n",
    "        \n",
    "    \n",
    "    \n",
    "    "
   ]
  },
  {
   "cell_type": "code",
   "execution_count": null,
   "metadata": {},
   "outputs": [],
   "source": []
  }
 ],
 "metadata": {
  "kernelspec": {
   "display_name": "Python 3",
   "language": "python",
   "name": "python3"
  },
  "language_info": {
   "codemirror_mode": {
    "name": "ipython",
    "version": 3
   },
   "file_extension": ".py",
   "mimetype": "text/x-python",
   "name": "python",
   "nbconvert_exporter": "python",
   "pygments_lexer": "ipython3",
   "version": "3.6.12"
  }
 },
 "nbformat": 4,
 "nbformat_minor": 4
}
